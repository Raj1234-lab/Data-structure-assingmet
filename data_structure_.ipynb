{
  "nbformat": 4,
  "nbformat_minor": 0,
  "metadata": {
    "colab": {
      "provenance": []
    },
    "kernelspec": {
      "name": "python3",
      "display_name": "Python 3"
    },
    "language_info": {
      "name": "python"
    }
  },
  "cells": [
    {
      "cell_type": "markdown",
      "source": [
        "theortical question\n"
      ],
      "metadata": {
        "id": "M5WRNUu7AcX0"
      }
    },
    {
      "cell_type": "markdown",
      "source": [
        "question 1\n",
        ">> what are data structure,and why are they important?\n",
        "\n",
        ">>A data structure is a specialized format for organizing, processing, retrieving and storing data. they are important because it have several basic and advanced types of data structures, all designed to arrange data to suit a specific purpose."
      ],
      "metadata": {
        "id": "JkJx42e4J_fY"
      }
    },
    {
      "cell_type": "markdown",
      "source": [
        "questin 2\n"
      ],
      "metadata": {
        "id": "J_D7aSkzQBQ1"
      }
    },
    {
      "cell_type": "markdown",
      "source": [
        ">>explian the diffrence between mutable and immutable data type with examples.\n",
        "\n",
        ">>Python data type is categorized into two types:\n",
        "\n",
        "Mutable Data Type – A mutable data type is one whose values can be changed.\n",
        "Example: List, Dictionaries, and Set\n",
        "\n",
        "Immutable Data Type – An immutable data type is one in which the values can’t be changed or altered.\n",
        "Example: String and Tuples"
      ],
      "metadata": {
        "id": "VPS8vV62LLKq"
      }
    },
    {
      "cell_type": "markdown",
      "source": [
        "question 3"
      ],
      "metadata": {
        "id": "BAVriRDoQF4G"
      }
    },
    {
      "cell_type": "markdown",
      "source": [
        ">>what are the main difference between lists and tuples in python?\n",
        "\n",
        ">>\n",
        "\n",
        "List\n",
        "\n",
        "1\tLists are mutable(can be modified)\n",
        "\n",
        "2\tIteration over lists is time-consuming.\n",
        "\n",
        "3\tLists are better for performing operations, such as insertion and deletion.\n",
        "\n",
        "4\tLists consume more memory.\n",
        "\n",
        "5\tLists have several built-in methods.\tTuples have fewer built-in methods.\n",
        "\n",
        "6\tLists are more prone to unexpected changes and errors.\tTuples, being immutable are less error prone.\n",
        "\n",
        "tuple\n",
        "\n",
        "1\tTuples are immutable(cannot be modified).\n",
        "\n",
        "2\tIterations over tuple is faster.\n",
        "\n",
        "3 Tuples are more suitable for accessing elements efficiently.\n",
        "\n",
        "4 Tuples consumes less memory.\n",
        "\n",
        "5 Tuples have fewer built-in methods.\n",
        "\n",
        "6 Tuples, being immutable are less error prone."
      ],
      "metadata": {
        "id": "3WTgw619L95_"
      }
    },
    {
      "cell_type": "markdown",
      "source": [
        "question 4"
      ],
      "metadata": {
        "id": "fs5u6nFXQO70"
      }
    },
    {
      "cell_type": "markdown",
      "source": [
        ">>describe how dictionaries store data\n",
        "\n",
        ">>Dictionaries are unordered collections of data and are represented with curly brackets { } . Like lists, dictionaries are mutable(changeable) and indexed. With dictionaries, data is stored in a key:value format.\n"
      ],
      "metadata": {
        "id": "X0EP-cFOOHUP"
      }
    },
    {
      "cell_type": "markdown",
      "source": [
        "question 5"
      ],
      "metadata": {
        "id": "YDeA_J8HQZHM"
      }
    },
    {
      "cell_type": "markdown",
      "source": [
        ">>why might you use a set instead of a list in python?\n",
        "\n",
        ">>Sets and lists are both used to store collections of items in Python, but they have key differences that make them suitable for different purposes. Sets are unordered collections of unique elements, while lists are ordered collections that can contain duplicate elements.\n"
      ],
      "metadata": {
        "id": "RIfNZpQ5OwbS"
      }
    },
    {
      "cell_type": "markdown",
      "source": [
        "question 6"
      ],
      "metadata": {
        "id": "e1Ym0QplQdh2"
      }
    },
    {
      "cell_type": "markdown",
      "source": [
        ">>what is a string in python ,and how is it different from a lists?\n",
        "\n",
        ">>A string is a sequence of characters between single or double quotes. A list is a sequence of items, where each item could be anything (an integer, a float, a string, etc)."
      ],
      "metadata": {
        "id": "aW8j-mu0PUG6"
      }
    },
    {
      "cell_type": "markdown",
      "source": [
        "question 7\n"
      ],
      "metadata": {
        "id": "Bbxls3vkQgRV"
      }
    },
    {
      "cell_type": "markdown",
      "source": [
        ">>how do tuples ensure data intergrity in python?\n",
        "\n",
        ">>Tuples in Python ensure data integrity through their immutability. Once a tuple is created, its elements cannot be modified, added, or removed. This characteristic guarantees that the data stored within a tuple remains constant throughout its lifecycle, preventing accidental or intentional alterations that could compromise data integrity."
      ],
      "metadata": {
        "id": "sxIBg0EAQkuU"
      }
    },
    {
      "cell_type": "markdown",
      "source": [
        "question 8"
      ],
      "metadata": {
        "id": "C-u0S182SBrg"
      }
    },
    {
      "cell_type": "markdown",
      "source": [
        ">>what is a harsh table ,and how does it relate to dictionaries in python?\n",
        "\n",
        ">>A hash table is a data structure that stores key-value pairs, where each key is unique and used to calculate the index for storing the corresponding value. This calculation, known as hashing, allows for efficient data retrieval, insertion, and deletion operations, typically with an average time complexity of O(1)."
      ],
      "metadata": {
        "id": "X_xdOEkYSgb8"
      }
    },
    {
      "cell_type": "markdown",
      "source": [
        "question 9"
      ],
      "metadata": {
        "id": "pMafFSPnSv9C"
      }
    },
    {
      "cell_type": "markdown",
      "source": [
        ">> can lists contain different data types in python?\n",
        "\n",
        ">>Yes, lists in Python can contain elements of different data types. Python lists are versatile and do not require all elements to be of the same type. A single list can hold integers, strings, floats, booleans, and even other lists or data structures."
      ],
      "metadata": {
        "id": "_bpW17cxS1X1"
      }
    },
    {
      "cell_type": "markdown",
      "source": [
        "question 10"
      ],
      "metadata": {
        "id": "txiiW1h6TTB9"
      }
    },
    {
      "cell_type": "markdown",
      "source": [
        ">> explain why stringds are immutable in python?\n",
        "\n",
        ">> Strings are immutable in Python for reasons related to efficiency, safety, and design principles. Immutability means that once a string is created, its value cannot be changed. Any operation that appears to modify a string actually creates a new string object."
      ],
      "metadata": {
        "id": "yXYYZ8FYTWgy"
      }
    },
    {
      "cell_type": "markdown",
      "source": [
        "question 11\n"
      ],
      "metadata": {
        "id": "4rrCwvANT630"
      }
    },
    {
      "cell_type": "markdown",
      "source": [
        ">> what advantages do dictionaries offer over lists for certain tasks\n",
        "\n",
        ">>Dictionaries are highly important in Python due to their fast access time and flexibility. They allow for quick data retrieval based on keys, which can significantly speed up the performance of a program, especially when dealing with large datasets."
      ],
      "metadata": {
        "id": "l5hvv4H1UAE3"
      }
    },
    {
      "cell_type": "markdown",
      "source": [
        "question 12\n",
        "\n",
        ">>describe a scenario where using a tuple would be preferable over a lists\n",
        "\n",
        ">>Tuples are preferred over lists in the following cases:\n",
        "1 When we want to ensure that data is not changed accidentally. ...\n",
        "2 When we want faster access to data that will not change as tuples are faster than lists.\n",
        "3 When we want to use the data as a key in a dictionary. ...\n",
        "4 When we want to use the data as an element of a set."
      ],
      "metadata": {
        "id": "m8MXX-dzXBwe"
      }
    },
    {
      "cell_type": "markdown",
      "source": [
        "question 13\n",
        "\n",
        ">>how do sets handle duplicate values in python?\n",
        "\n",
        ">>Sets in Python are designed to store only unique elements. When a user attempts to add a duplicate value to a set, the set automatically discards the duplicate, ensuring that each element appears only once.\n"
      ],
      "metadata": {
        "id": "HUQ-X1fIXodu"
      }
    },
    {
      "cell_type": "markdown",
      "source": [
        "question 14\n",
        "\n",
        ">>how does 'in' keyword work differently for lists and dictionaries?\n",
        "\n",
        ">>The in operator in Python checks if a specified value exists within a sequence, such as a list, tuple, or string."
      ],
      "metadata": {
        "id": "K7c18GKLYHqh"
      }
    },
    {
      "cell_type": "markdown",
      "source": [
        "question 15\n",
        "\n",
        ">>can you modify the elements of a tuple?explain why or why not.\n",
        "\n",
        ">>No, you cannot directly modify the elements of a tuple in Python after it's been created. Tuples are immutable, meaning their contents cannot be changed once they are defined. Trying to modify a tuple will result in a TypeError."
      ],
      "metadata": {
        "id": "C7poDehKYpKM"
      }
    },
    {
      "cell_type": "markdown",
      "source": [
        "question 16\n",
        "\n",
        ">>what is a nested dictionary,and give an example of its use case?\n",
        "\n",
        ">>A nested dictionary in Python is a dictionary where the values are themselves dictionaries. This allows for the creation of a hierarchical structure where data can be organized into multiple levels. A common use case for nested dictionaries is representing complex,"
      ],
      "metadata": {
        "id": "Q-tgsYK5ZOxg"
      }
    },
    {
      "cell_type": "markdown",
      "source": [
        "question 17\n",
        "\n",
        ">>describe the time complexity of accessing elements in a dictionary.\n",
        "\n",
        ">>Accessing an element in a dictionary using its key typically has a time complexity of O(1) on average, meaning it takes constant time, regardless of the dictionary's size."
      ],
      "metadata": {
        "id": "rjiOK6W4Zx1Q"
      }
    },
    {
      "cell_type": "markdown",
      "source": [
        "question 18\n",
        "\n",
        ">>In what situation are lists preferred over dictionaries?\n",
        "\n",
        ">>If you need an ordered collection, like a sequence of user actions, lists are your go-to. On the other hand, when you need quick look-ups, like mapping usernames to user data, dictionaries are invaluable.\n"
      ],
      "metadata": {
        "id": "K7RP9t2Ua1af"
      }
    },
    {
      "cell_type": "markdown",
      "source": [
        "question 19\n",
        "\n",
        ">>why are dictionaries considered unordered,and how does that affect data retrieval?\n",
        "\n",
        ">>A dictionary is termed an unordered collection of objects because dictionaries do not maintain any inherent order of the items based on when they were added. dictionaries did not preserve insertion order at all."
      ],
      "metadata": {
        "id": "-otbHqvBbuU8"
      }
    },
    {
      "cell_type": "markdown",
      "source": [
        "question 20\n",
        "\n",
        ">>explain the difference between  a list and a dictionary in term of data retrieval.\n",
        "\n",
        ">>. Lists are ordered collections of items, whereas the dictionary is an unordered collection of data in a key: value pair form. Both lists and dictionaries are mutable, i.e., you can add, edit, delete, or modify the elements."
      ],
      "metadata": {
        "id": "xF8jMdOMcltl"
      }
    },
    {
      "cell_type": "code",
      "execution_count": null,
      "metadata": {
        "colab": {
          "base_uri": "https://localhost:8080/",
          "height": 36
        },
        "id": "IddZZcwkU0Tz",
        "outputId": "00d72e59-a35a-493f-e12e-67b668ec6b0a"
      },
      "outputs": [
        {
          "output_type": "execute_result",
          "data": {
            "text/plain": [
              "'rishikesh singh'"
            ],
            "application/vnd.google.colaboratory.intrinsic+json": {
              "type": "string"
            }
          },
          "metadata": {},
          "execution_count": 1
        }
      ],
      "source": [
        "#question 1\n",
        "#write a code to create a string with your name and print it.\n",
        "\n",
        "name=\"rishikesh singh\"\n",
        "name\n"
      ]
    },
    {
      "cell_type": "code",
      "source": [
        "type(name)"
      ],
      "metadata": {
        "colab": {
          "base_uri": "https://localhost:8080/"
        },
        "id": "t2Oa7M8sWCqF",
        "outputId": "2194b403-b9f6-48d2-9cd0-038a8f37ce49"
      },
      "execution_count": null,
      "outputs": [
        {
          "output_type": "execute_result",
          "data": {
            "text/plain": [
              "str"
            ]
          },
          "metadata": {},
          "execution_count": 3
        }
      ]
    },
    {
      "cell_type": "code",
      "source": [
        "#question 2\n",
        "#write the code to find the lenght of the stribg \"hello world\"\n",
        "a=\"hello world\"\n",
        "print(len(a))"
      ],
      "metadata": {
        "colab": {
          "base_uri": "https://localhost:8080/"
        },
        "id": "-_H_2hBMWCnJ",
        "outputId": "8979ce9a-54cc-470f-c441-990fd7cd0c9b"
      },
      "execution_count": null,
      "outputs": [
        {
          "output_type": "stream",
          "name": "stdout",
          "text": [
            "11\n"
          ]
        }
      ]
    },
    {
      "cell_type": "code",
      "source": [
        "#question 3\n",
        "#write a code to slice the first three character from the string python programming\n",
        "a=\"python programming\"\n",
        "a[0:3]"
      ],
      "metadata": {
        "colab": {
          "base_uri": "https://localhost:8080/",
          "height": 36
        },
        "id": "w-8n8YB0WCiF",
        "outputId": "ab3b4b6f-3bf1-4f4e-b087-5a93a8c892c5"
      },
      "execution_count": null,
      "outputs": [
        {
          "output_type": "execute_result",
          "data": {
            "text/plain": [
              "'pyt'"
            ],
            "application/vnd.google.colaboratory.intrinsic+json": {
              "type": "string"
            }
          },
          "metadata": {},
          "execution_count": 7
        }
      ]
    },
    {
      "cell_type": "code",
      "source": [
        "#question 4\n",
        "#write a code to covert the string hello to upper case"
      ],
      "metadata": {
        "id": "2Abu_LJ2WCet"
      },
      "execution_count": null,
      "outputs": []
    },
    {
      "cell_type": "code",
      "source": [
        "str=\"hello\"\n",
        "print(str.upper())"
      ],
      "metadata": {
        "colab": {
          "base_uri": "https://localhost:8080/"
        },
        "id": "XE-2rApAWCc8",
        "outputId": "ffa684eb-e820-4c6f-8ecf-6b4711edeadc"
      },
      "execution_count": null,
      "outputs": [
        {
          "output_type": "stream",
          "name": "stdout",
          "text": [
            "HELLO\n"
          ]
        }
      ]
    },
    {
      "cell_type": "code",
      "source": [
        "#question 5\n",
        "# write a code to replace a word apple with orange in the string \"i like apple\""
      ],
      "metadata": {
        "id": "8twJbrP1WCZ2"
      },
      "execution_count": null,
      "outputs": []
    },
    {
      "cell_type": "code",
      "source": [
        "str=\"i like apple\"\n",
        "str.replace(\"apple\",\"orange\")"
      ],
      "metadata": {
        "colab": {
          "base_uri": "https://localhost:8080/",
          "height": 36
        },
        "id": "5tVE0CytWCYL",
        "outputId": "b2001ac1-0029-4d5f-8916-2893b6e5ae1d"
      },
      "execution_count": null,
      "outputs": [
        {
          "output_type": "execute_result",
          "data": {
            "text/plain": [
              "'i like orange'"
            ],
            "application/vnd.google.colaboratory.intrinsic+json": {
              "type": "string"
            }
          },
          "metadata": {},
          "execution_count": 10
        }
      ]
    },
    {
      "cell_type": "code",
      "source": [
        "#question 6\n",
        "#write a code to create a list with number 1 to 5 and print it\n",
        "list = [1,2,3,4,5]\n",
        "print(list)"
      ],
      "metadata": {
        "colab": {
          "base_uri": "https://localhost:8080/"
        },
        "id": "sF88gmseWCUv",
        "outputId": "7c552ddb-7215-4e47-b169-be91f0292f91"
      },
      "execution_count": null,
      "outputs": [
        {
          "output_type": "stream",
          "name": "stdout",
          "text": [
            "[1, 2, 3, 4, 5]\n"
          ]
        }
      ]
    },
    {
      "cell_type": "code",
      "source": [
        "#question 7\n",
        "#wirte  a code to append the number 10 to the [1,2,3,4,5]\n",
        "list = [1,2,3,4,5]\n",
        "list.append(10)\n",
        "print(list)"
      ],
      "metadata": {
        "colab": {
          "base_uri": "https://localhost:8080/"
        },
        "id": "UK24p1vXWCS9",
        "outputId": "41b9ec6f-8ff3-4829-f19b-cd46186cb4db"
      },
      "execution_count": null,
      "outputs": [
        {
          "output_type": "stream",
          "name": "stdout",
          "text": [
            "[1, 2, 3, 4, 5, 10]\n"
          ]
        }
      ]
    },
    {
      "cell_type": "markdown",
      "source": [],
      "metadata": {
        "id": "_E222yXla-8F"
      }
    },
    {
      "cell_type": "code",
      "source": [
        "#question 8\n",
        "#write a code to remove the number 3 from the list[1,2,3,4,5]\n",
        "list = [1,2,3,4,5]\n",
        "list.remove(3)\n",
        "print(list)"
      ],
      "metadata": {
        "colab": {
          "base_uri": "https://localhost:8080/"
        },
        "id": "1dWIm4K1WCPy",
        "outputId": "3e4f974d-37ee-4717-b3fe-b2c6cefd66ff"
      },
      "execution_count": null,
      "outputs": [
        {
          "output_type": "stream",
          "name": "stdout",
          "text": [
            "[1, 2, 4, 5]\n"
          ]
        }
      ]
    },
    {
      "cell_type": "code",
      "source": [
        "#question 9\n",
        "#write a code to access the second elemet in the list[a,b,c,d]\n",
        "list = [\"a\",\"b\",\"c\",\"d\"]\n",
        "print(list[1])\n"
      ],
      "metadata": {
        "colab": {
          "base_uri": "https://localhost:8080/"
        },
        "id": "v_OL3nlgcNnh",
        "outputId": "896f205b-bfa1-4786-c59d-534652ee3b62"
      },
      "execution_count": null,
      "outputs": [
        {
          "output_type": "stream",
          "name": "stdout",
          "text": [
            "b\n"
          ]
        }
      ]
    },
    {
      "cell_type": "code",
      "source": [
        "#question 10\n",
        "#write a code to reverse the list [10,20,30,40,50]\n",
        "list = [10,20,30,40,50]\n",
        "list.reverse()\n",
        "print(list)"
      ],
      "metadata": {
        "colab": {
          "base_uri": "https://localhost:8080/"
        },
        "id": "9BDKJbmWWCOD",
        "outputId": "24398309-0c03-4d3d-dab1-9cf785ec7f23"
      },
      "execution_count": null,
      "outputs": [
        {
          "output_type": "stream",
          "name": "stdout",
          "text": [
            "[50, 40, 30, 20, 10]\n"
          ]
        }
      ]
    },
    {
      "cell_type": "code",
      "source": [
        "#question 11\n",
        "#write a code to create a tuple with the element 100,200,300 and print it\n",
        "tuple = (100,200,300)\n",
        "print(tuple)"
      ],
      "metadata": {
        "colab": {
          "base_uri": "https://localhost:8080/"
        },
        "id": "4Ebr-HWYWCK4",
        "outputId": "bb9a30a7-40c2-48ab-a1af-1f8a61f2e219"
      },
      "execution_count": null,
      "outputs": [
        {
          "output_type": "stream",
          "name": "stdout",
          "text": [
            "(100, 200, 300)\n"
          ]
        }
      ]
    },
    {
      "cell_type": "code",
      "source": [
        "#question 12\n",
        "#write a code to access the second -to - last element of the tuple(red,green,blue,yellow)\n",
        "tuple = (\"red\",\"green\",\"blue\",\"yellow\")\n",
        "print(tuple[2])"
      ],
      "metadata": {
        "colab": {
          "base_uri": "https://localhost:8080/"
        },
        "id": "Jg9NGHucWCJH",
        "outputId": "2b4d854f-c440-4466-89cc-96412a9ec5ab"
      },
      "execution_count": null,
      "outputs": [
        {
          "output_type": "stream",
          "name": "stdout",
          "text": [
            "blue\n"
          ]
        }
      ]
    },
    {
      "cell_type": "code",
      "source": [
        "#question 13\n",
        "#write a code to find the minimum number in the tuple[10,20,5,15]\n",
        "tuple = (10,20,5,15)\n",
        "print(min(tuple))\n"
      ],
      "metadata": {
        "colab": {
          "base_uri": "https://localhost:8080/"
        },
        "id": "CwMdrgxtWCFs",
        "outputId": "4421b653-83ab-449d-edc6-681d1937525c"
      },
      "execution_count": null,
      "outputs": [
        {
          "output_type": "stream",
          "name": "stdout",
          "text": [
            "5\n"
          ]
        }
      ]
    },
    {
      "cell_type": "code",
      "source": [
        "#question 14\n",
        "#write a code to find index of the element \"cat\" in the tuple(\"dog\",\"cat\",\"rabbit\")\n",
        "tuple = (\"dog\",\"cat\",\"rabbit\")\n",
        "print(tuple.index(\"cat\"))"
      ],
      "metadata": {
        "colab": {
          "base_uri": "https://localhost:8080/"
        },
        "id": "FbYiUrm8WCD6",
        "outputId": "39a97ddb-8bb9-44b0-9459-133100b9b37b"
      },
      "execution_count": null,
      "outputs": [
        {
          "output_type": "stream",
          "name": "stdout",
          "text": [
            "1\n"
          ]
        }
      ]
    },
    {
      "cell_type": "code",
      "source": [
        "#question 15\n",
        "#write a code to create a tuple containing three different fruits and check if kiwi is in it\n",
        "tuple = (\"apple\",\"banana\",\"kiwi\")\n",
        "print(\"kiwi\" in tuple)"
      ],
      "metadata": {
        "colab": {
          "base_uri": "https://localhost:8080/"
        },
        "id": "40SLnQDlWCAo",
        "outputId": "ef2816b8-6a83-4b65-8aec-2e724750fb54"
      },
      "execution_count": null,
      "outputs": [
        {
          "output_type": "stream",
          "name": "stdout",
          "text": [
            "True\n"
          ]
        }
      ]
    },
    {
      "cell_type": "code",
      "source": [
        "#question 16\n",
        "#write a code to create a set with the elements 'a','b','c' and print it\n",
        "set = {'a','b','c'}\n",
        "print(set)"
      ],
      "metadata": {
        "colab": {
          "base_uri": "https://localhost:8080/"
        },
        "id": "QKXdN5JBWB--",
        "outputId": "d0cf2202-ce63-43c3-e0cd-be00cff70bf9"
      },
      "execution_count": null,
      "outputs": [
        {
          "output_type": "stream",
          "name": "stdout",
          "text": [
            "{'b', 'a', 'c'}\n"
          ]
        }
      ]
    },
    {
      "cell_type": "code",
      "source": [
        "#question 17\n",
        "#write a code to clear all elements from the set [1,2,3,4,5]\n",
        "set = {1,2,3,4,5}\n",
        "set.clear()\n",
        "print(set)"
      ],
      "metadata": {
        "colab": {
          "base_uri": "https://localhost:8080/"
        },
        "id": "0GViLMDUWB8d",
        "outputId": "e19ca7dc-59ba-43a6-aefe-c7d555ae7a0b"
      },
      "execution_count": null,
      "outputs": [
        {
          "output_type": "stream",
          "name": "stdout",
          "text": [
            "set()\n"
          ]
        }
      ]
    },
    {
      "cell_type": "code",
      "source": [
        "#question 18\n",
        "#write a code to remove the element 4 from the set [1,2,3,4]\n",
        "set = {1,2,3,4}\n",
        "set.remove(4)\n",
        "print(set)"
      ],
      "metadata": {
        "colab": {
          "base_uri": "https://localhost:8080/"
        },
        "id": "ZEbc_TUIWB6R",
        "outputId": "be986794-a085-45fe-bd5e-0bcb67f77905"
      },
      "execution_count": null,
      "outputs": [
        {
          "output_type": "stream",
          "name": "stdout",
          "text": [
            "{1, 2, 3}\n"
          ]
        }
      ]
    },
    {
      "cell_type": "code",
      "source": [
        "#question 19\n",
        "#write a code to find the union of two sets{,1,2,3} and {3,4,5}\n",
        "set1 = {1,2,3}\n",
        "set2 = {3,4,5}\n",
        "print(set1.union(set2))"
      ],
      "metadata": {
        "colab": {
          "base_uri": "https://localhost:8080/"
        },
        "id": "WB4l6SsiWB20",
        "outputId": "e9672482-9ad0-478a-cd42-2653d15aa2eb"
      },
      "execution_count": null,
      "outputs": [
        {
          "output_type": "stream",
          "name": "stdout",
          "text": [
            "{1, 2, 3, 4, 5}\n"
          ]
        }
      ]
    },
    {
      "cell_type": "code",
      "source": [
        "#question 20\n",
        "#write a code to find the intersection of two sets {1,2,3}and{2,3,4}\n",
        "set1 = {1,2,3}\n",
        "set2 = {2,3,4}\n",
        "print(set1.intersection(set2))"
      ],
      "metadata": {
        "colab": {
          "base_uri": "https://localhost:8080/"
        },
        "id": "hbww5GfaWB1O",
        "outputId": "07480310-e6a9-43cf-94dd-ee36f059b3f1"
      },
      "execution_count": null,
      "outputs": [
        {
          "output_type": "stream",
          "name": "stdout",
          "text": [
            "{2, 3}\n"
          ]
        }
      ]
    },
    {
      "cell_type": "code",
      "source": [
        "#question 21\n",
        "#write a code to create a dictionary with the keys \"names\",\"age\",and \"city\", and print it\n",
        "dict = {\"names\":\"rishikesh\",\"age\":20,\"city\":\"lucknow\"}\n",
        "print(dict)\n"
      ],
      "metadata": {
        "colab": {
          "base_uri": "https://localhost:8080/"
        },
        "id": "opnYV-5dWBxu",
        "outputId": "7778b308-5b8e-4df1-fdaa-18f9b864449e"
      },
      "execution_count": null,
      "outputs": [
        {
          "output_type": "stream",
          "name": "stdout",
          "text": [
            "{'names': 'rishikesh', 'age': 20, 'city': 'lucknow'}\n"
          ]
        }
      ]
    },
    {
      "cell_type": "code",
      "source": [
        "#question 22\n",
        "#write a code to add a new key-value pair \"country\":\"usa\" to the dictonary{'name':'alice','city':\"paris\"}\n",
        "dict = {\"name\":\"alice\",\"city\":\"paris\"}\n",
        "dict[\"country\"] = \"usa\"\n",
        "print(dict)"
      ],
      "metadata": {
        "id": "Sl0E8tSXWBwI"
      },
      "execution_count": null,
      "outputs": []
    },
    {
      "cell_type": "code",
      "source": [
        "#question 22\n",
        "#write a code to access the value associated with the keys\"name\" int he dictionary{'name':alice,'age':30}\n",
        "dict = {\"name\":\"alice\",\"age\":30}\n",
        "print(dict[\"name\"])"
      ],
      "metadata": {
        "id": "tfVQadltWBsh",
        "colab": {
          "base_uri": "https://localhost:8080/"
        },
        "outputId": "ba3e039f-5f8b-41ef-d656-8457295c1fb7"
      },
      "execution_count": null,
      "outputs": [
        {
          "output_type": "stream",
          "name": "stdout",
          "text": [
            "alice\n"
          ]
        }
      ]
    },
    {
      "cell_type": "code",
      "source": [
        "#question 24\n",
        "#write a code to remove the key \"age\" from the dictionary{'name':'bob','age':22,'city':'new york'}\n",
        "dict = {\"name\":\"bob\",\"age\":22,\"city\":\"new york\"}\n",
        "del dict[\"age\"]\n",
        "print(dict)"
      ],
      "metadata": {
        "id": "MKCs2yx8WBq6",
        "colab": {
          "base_uri": "https://localhost:8080/"
        },
        "outputId": "26cf0ea9-da82-4d69-b182-c469a0c47ec3"
      },
      "execution_count": null,
      "outputs": [
        {
          "output_type": "stream",
          "name": "stdout",
          "text": [
            "{'name': 'bob', 'city': 'new york'}\n"
          ]
        }
      ]
    },
    {
      "cell_type": "code",
      "source": [
        "#question 25\n",
        "#write a code to check if the key \"city\" exists in the dictionary{'name':'alice','city':'paris'}\n",
        "dict = {\"name\":\"alice\",\"city\":\"paris\"}\n",
        "print(\"city\" in dict)"
      ],
      "metadata": {
        "id": "a4ACc3YYWBh2",
        "colab": {
          "base_uri": "https://localhost:8080/"
        },
        "outputId": "a8fc98b7-88ba-4984-e3a4-545ddf523f80"
      },
      "execution_count": null,
      "outputs": [
        {
          "output_type": "stream",
          "name": "stdout",
          "text": [
            "True\n"
          ]
        }
      ]
    },
    {
      "cell_type": "code",
      "source": [
        "#question 26\n",
        "#write a code to create a list , a tuple, and a dictionary, and print them all\n",
        "list = [1,2,3,4,5]\n",
        "tuple = (1,2,3,4,5)\n",
        "dict = {\"name\":\"rishikesh\",\"age\":20,\"city\":\"lucknow\"}\n",
        "print(list)\n",
        "print(tuple)\n",
        "print(dict)"
      ],
      "metadata": {
        "id": "cWO-fClVWBUy",
        "colab": {
          "base_uri": "https://localhost:8080/"
        },
        "outputId": "fc0897eb-0c92-439a-9547-b1c02decb1ba"
      },
      "execution_count": null,
      "outputs": [
        {
          "output_type": "stream",
          "name": "stdout",
          "text": [
            "[1, 2, 3, 4, 5]\n",
            "(1, 2, 3, 4, 5)\n",
            "{'name': 'rishikesh', 'age': 20, 'city': 'lucknow'}\n"
          ]
        }
      ]
    },
    {
      "cell_type": "code",
      "source": [
        "#question 27\n",
        "#write a code to create a list of 5 random numbers between 1 and 100,short it in ascending order, and print the result.\n",
        "import random\n",
        "list = []\n",
        "for i in range(5):\n",
        "    list.append(random.randint(1,100))\n",
        "list.sort()\n",
        "print(list)\n"
      ],
      "metadata": {
        "colab": {
          "base_uri": "https://localhost:8080/"
        },
        "id": "Mn9Qnihe9Pu2",
        "outputId": "9f4ebdfb-dff7-4c33-8539-800ff388590d"
      },
      "execution_count": null,
      "outputs": [
        {
          "output_type": "stream",
          "name": "stdout",
          "text": [
            "[2, 36, 40, 54, 57]\n"
          ]
        }
      ]
    },
    {
      "cell_type": "code",
      "source": [],
      "metadata": {
        "id": "XWq1ge4Y_ibs"
      },
      "execution_count": null,
      "outputs": []
    },
    {
      "cell_type": "code",
      "source": [
        "#question 28\n",
        "#write a code to create a list with strings and print the element at the third index\n",
        "list = [\"rishikesh\",\"singh\",\"is\",\"a\",\"boy\"]\n",
        "print(list[3])\n"
      ],
      "metadata": {
        "colab": {
          "base_uri": "https://localhost:8080/"
        },
        "id": "rXuqlT2G-veA",
        "outputId": "e2e1b40f-2ba1-4892-aed5-3ef228ec312f"
      },
      "execution_count": null,
      "outputs": [
        {
          "output_type": "stream",
          "name": "stdout",
          "text": [
            "a\n"
          ]
        }
      ]
    },
    {
      "cell_type": "code",
      "source": [
        "#question 29\n",
        "#write a code to combine two dictionary into one and print the result\n",
        "dict1 = {\"name\":\"rishikesh\",\"age\":20}\n",
        "dict2 = {\"city\":\"lucknow\",\"country\":\"india\"}\n",
        "dict1.update(dict2)\n",
        "print(dict1)"
      ],
      "metadata": {
        "colab": {
          "base_uri": "https://localhost:8080/"
        },
        "id": "DTDbyHhk_tbM",
        "outputId": "54ed6d7b-6187-4598-f373-ee3799c21fc3"
      },
      "execution_count": null,
      "outputs": [
        {
          "output_type": "stream",
          "name": "stdout",
          "text": [
            "{'name': 'rishikesh', 'age': 20, 'city': 'lucknow', 'country': 'india'}\n"
          ]
        }
      ]
    },
    {
      "cell_type": "code",
      "source": [
        "#question 30\n",
        "#write a code to convert a list of strings into a set.\n",
        "list = (\"rishikesh\",\"singh\",\"is\",\"a\",\"boy\")\n",
        "set = set(list)\n",
        "print(set)"
      ],
      "metadata": {
        "colab": {
          "base_uri": "https://localhost:8080/"
        },
        "id": "d6vBL5ErARJy",
        "outputId": "c341f01d-fbb1-4a2a-945f-8c1df1059817"
      },
      "execution_count": null,
      "outputs": [
        {
          "output_type": "stream",
          "name": "stdout",
          "text": [
            "{'is', 'rishikesh', 'singh', 'boy', 'a'}\n"
          ]
        }
      ]
    },
    {
      "cell_type": "code",
      "source": [],
      "metadata": {
        "id": "KFuFNKfrBGNR"
      },
      "execution_count": null,
      "outputs": []
    }
  ]
}